{
 "cells": [
  {
   "cell_type": "markdown",
   "metadata": {},
   "source": [
    "# Introduction"
   ]
  },
  {
   "cell_type": "markdown",
   "metadata": {},
   "source": [
    "In this lab exercise, you will learn how to analyse networks in Python. We will first start by some practicalities on loading data, and creating a network in Python. We then will start with some basic analysis, and move gradually to more complex analyses.\n",
    "\n",
    "We will be analysing an author network. We have prepared two types of networks: a collaboration network and a citation network.\n",
    "\n",
    "This Python notebook is intended to be use as an exercise. We have prepared everything for you, but at some parts we will ask you to fill in some of the blanks. If you need any help with anything, please don't hesitate to ask your teachers."
   ]
  },
  {
   "cell_type": "markdown",
   "metadata": {},
   "source": [
    "## Reading data"
   ]
  },
  {
   "cell_type": "markdown",
   "metadata": {},
   "source": [
    "We now first start with loading the network data. We prepared two `tab`-separated text files for your convenience. The file `authors.txt` contains all the author information, the other two contain the data on the collaboration links (`collaboration.txt`) and the citation links (`citations.txt`).\n",
    "\n",
    "In order to read in this data, we first need to make sure that Python is able to read it. A very versatile *package* for handling data in Python is called `pandas`. For those of you familiar with `R`, it is similar to the `data.frame` in `R`."
   ]
  },
  {
   "cell_type": "markdown",
   "metadata": {},
   "source": [
    "We *import* this package as follows:"
   ]
  },
  {
   "cell_type": "markdown",
   "metadata": {},
   "source": [
    "<div class=\"alert alert-success\">\n",
    "In order to execute the code you have to press Ctrl-Enter while selecting the code cell below. Alternatively, you can press the \"Play\" button at the top of the screen. This also moves to the next cell at the same time. Using Shift-Enter instead of Ctrl-Enter will also execute the code and move to the next cell at the same time.\n",
    "</div>"
   ]
  },
  {
   "cell_type": "code",
   "execution_count": 1,
   "metadata": {
    "collapsed": true
   },
   "outputs": [],
   "source": [
    "import pandas as pd"
   ]
  },
  {
   "cell_type": "markdown",
   "metadata": {},
   "source": [
    "<div class=\"alert alert-success\">\n",
    "If you have executed that code cell correctly, it should now be numbered `1`. While the code in that cell is executed it is marked by an asterisk `*`. Each cell of executed code will be numbered in the order in which you execute it. If you execute it again, it will be numbered `2`, et cetera.\n",
    "</div>"
   ]
  },
  {
   "cell_type": "markdown",
   "metadata": {},
   "source": [
    "We are now ready to read in data. We have named the `pandas` package `pd`, which will save us some typing. We are going to read the tab-separated files using the general interface for reading comma-separated value files, normally known as `csv` files."
   ]
  },
  {
   "cell_type": "code",
   "execution_count": 2,
   "metadata": {
    "collapsed": true
   },
   "outputs": [],
   "source": [
    "authors_df = pd.read_csv('authors.txt', sep='\\t')"
   ]
  },
  {
   "cell_type": "markdown",
   "metadata": {},
   "source": [
    "We called the *function* `read_csv` of the `pandas` package (which we refer to as `pd`). We needed to provide it with two *arguments*, the first arguments it the name of the file we want to read. The second argument indicates that the values are not separated by a comma in this file, but by a `tab`, which is represented as `\\t`. \n",
    "\n",
    "The `pandas` package took care of reading the file, and has now stored it in the variable called `authors_df`. You can now take a closer look at authors_df to see the data that we just read."
   ]
  },
  {
   "cell_type": "code",
   "execution_count": 3,
   "metadata": {
    "scrolled": true
   },
   "outputs": [
    {
     "data": {
      "text/html": [
       "<div>\n",
       "<style scoped>\n",
       "    .dataframe tbody tr th:only-of-type {\n",
       "        vertical-align: middle;\n",
       "    }\n",
       "\n",
       "    .dataframe tbody tr th {\n",
       "        vertical-align: top;\n",
       "    }\n",
       "\n",
       "    .dataframe thead th {\n",
       "        text-align: right;\n",
       "    }\n",
       "</style>\n",
       "<table border=\"1\" class=\"dataframe\">\n",
       "  <thead>\n",
       "    <tr style=\"text-align: right;\">\n",
       "      <th></th>\n",
       "      <th>author_id</th>\n",
       "      <th>full_name</th>\n",
       "      <th>first_name</th>\n",
       "      <th>n_pubs</th>\n",
       "      <th>gender</th>\n",
       "      <th>discipline</th>\n",
       "    </tr>\n",
       "  </thead>\n",
       "  <tbody>\n",
       "    <tr>\n",
       "      <th>0</th>\n",
       "      <td>1629293</td>\n",
       "      <td>van acker, k</td>\n",
       "      <td>kristien</td>\n",
       "      <td>31</td>\n",
       "      <td>f</td>\n",
       "      <td>CLINICAL MEDICINE</td>\n",
       "    </tr>\n",
       "    <tr>\n",
       "      <th>1</th>\n",
       "      <td>1659248</td>\n",
       "      <td>leyns, l</td>\n",
       "      <td>luc</td>\n",
       "      <td>31</td>\n",
       "      <td>m</td>\n",
       "      <td>BASIC LIFE SCIENCES</td>\n",
       "    </tr>\n",
       "    <tr>\n",
       "      <th>2</th>\n",
       "      <td>1683873</td>\n",
       "      <td>thienpont, h</td>\n",
       "      <td>hugo</td>\n",
       "      <td>341</td>\n",
       "      <td>m</td>\n",
       "      <td>PHYSICS AND MATERIALS SCIENCE</td>\n",
       "    </tr>\n",
       "    <tr>\n",
       "      <th>3</th>\n",
       "      <td>1712696</td>\n",
       "      <td>gobin, a</td>\n",
       "      <td>anne</td>\n",
       "      <td>37</td>\n",
       "      <td>f</td>\n",
       "      <td>ENVIRONMENTAL SCIENCES AND TECHNOLOGY</td>\n",
       "    </tr>\n",
       "    <tr>\n",
       "      <th>4</th>\n",
       "      <td>3221178</td>\n",
       "      <td>fally, s</td>\n",
       "      <td>sophie</td>\n",
       "      <td>30</td>\n",
       "      <td>f</td>\n",
       "      <td>CHEMISTRY AND CHEMICAL ENGINEERING</td>\n",
       "    </tr>\n",
       "    <tr>\n",
       "      <th>5</th>\n",
       "      <td>3244878</td>\n",
       "      <td>houf, k</td>\n",
       "      <td>kurt</td>\n",
       "      <td>120</td>\n",
       "      <td>m</td>\n",
       "      <td>BASIC LIFE SCIENCES</td>\n",
       "    </tr>\n",
       "    <tr>\n",
       "      <th>6</th>\n",
       "      <td>3250712</td>\n",
       "      <td>crine, m</td>\n",
       "      <td>michel</td>\n",
       "      <td>95</td>\n",
       "      <td>m</td>\n",
       "      <td>CHEMISTRY AND CHEMICAL ENGINEERING</td>\n",
       "    </tr>\n",
       "    <tr>\n",
       "      <th>7</th>\n",
       "      <td>3258114</td>\n",
       "      <td>kesteloot, c</td>\n",
       "      <td>chris</td>\n",
       "      <td>3</td>\n",
       "      <td>m</td>\n",
       "      <td>ENVIRONMENTAL SCIENCES AND TECHNOLOGY</td>\n",
       "    </tr>\n",
       "    <tr>\n",
       "      <th>8</th>\n",
       "      <td>3281578</td>\n",
       "      <td>deplaen, e</td>\n",
       "      <td>etienne</td>\n",
       "      <td>75</td>\n",
       "      <td>m</td>\n",
       "      <td>BASIC LIFE SCIENCES</td>\n",
       "    </tr>\n",
       "    <tr>\n",
       "      <th>9</th>\n",
       "      <td>5008328</td>\n",
       "      <td>van steen, a</td>\n",
       "      <td>andre</td>\n",
       "      <td>35</td>\n",
       "      <td>m</td>\n",
       "      <td>CLINICAL MEDICINE</td>\n",
       "    </tr>\n",
       "    <tr>\n",
       "      <th>10</th>\n",
       "      <td>5031049</td>\n",
       "      <td>verspecht, j</td>\n",
       "      <td>jan</td>\n",
       "      <td>18</td>\n",
       "      <td>m</td>\n",
       "      <td>ELECTRICAL ENGINEERING AND TELECOMMUNICATION</td>\n",
       "    </tr>\n",
       "    <tr>\n",
       "      <th>11</th>\n",
       "      <td>5076412</td>\n",
       "      <td>differding, e</td>\n",
       "      <td>edmond</td>\n",
       "      <td>4</td>\n",
       "      <td>m</td>\n",
       "      <td>CHEMISTRY AND CHEMICAL ENGINEERING</td>\n",
       "    </tr>\n",
       "    <tr>\n",
       "      <th>12</th>\n",
       "      <td>5077852</td>\n",
       "      <td>christophe, c</td>\n",
       "      <td>catherine</td>\n",
       "      <td>66</td>\n",
       "      <td>f</td>\n",
       "      <td>CLINICAL MEDICINE</td>\n",
       "    </tr>\n",
       "    <tr>\n",
       "      <th>13</th>\n",
       "      <td>5158915</td>\n",
       "      <td>hans, p</td>\n",
       "      <td>pol</td>\n",
       "      <td>142</td>\n",
       "      <td>m</td>\n",
       "      <td>CLINICAL MEDICINE</td>\n",
       "    </tr>\n",
       "    <tr>\n",
       "      <th>14</th>\n",
       "      <td>5160962</td>\n",
       "      <td>coroama, m</td>\n",
       "      <td>manuela</td>\n",
       "      <td>8</td>\n",
       "      <td>f</td>\n",
       "      <td>BIOMEDICAL SCIENCES</td>\n",
       "    </tr>\n",
       "    <tr>\n",
       "      <th>15</th>\n",
       "      <td>5194529</td>\n",
       "      <td>marchal, k</td>\n",
       "      <td>kathleen</td>\n",
       "      <td>148</td>\n",
       "      <td>f</td>\n",
       "      <td>BASIC LIFE SCIENCES</td>\n",
       "    </tr>\n",
       "    <tr>\n",
       "      <th>16</th>\n",
       "      <td>6734742</td>\n",
       "      <td>wagers, ss</td>\n",
       "      <td>scott</td>\n",
       "      <td>29</td>\n",
       "      <td>m</td>\n",
       "      <td>CLINICAL MEDICINE</td>\n",
       "    </tr>\n",
       "    <tr>\n",
       "      <th>17</th>\n",
       "      <td>8029540</td>\n",
       "      <td>delplancke-ogletree, mp</td>\n",
       "      <td>marie-paule</td>\n",
       "      <td>57</td>\n",
       "      <td>f</td>\n",
       "      <td>PHYSICS AND MATERIALS SCIENCE</td>\n",
       "    </tr>\n",
       "    <tr>\n",
       "      <th>18</th>\n",
       "      <td>8037628</td>\n",
       "      <td>claes, r</td>\n",
       "      <td>rita</td>\n",
       "      <td>10</td>\n",
       "      <td>f</td>\n",
       "      <td>PSYCHOLOGY</td>\n",
       "    </tr>\n",
       "    <tr>\n",
       "      <th>19</th>\n",
       "      <td>8169942</td>\n",
       "      <td>van gaal, l</td>\n",
       "      <td>luc</td>\n",
       "      <td>463</td>\n",
       "      <td>m</td>\n",
       "      <td>CLINICAL MEDICINE</td>\n",
       "    </tr>\n",
       "    <tr>\n",
       "      <th>20</th>\n",
       "      <td>9352700</td>\n",
       "      <td>de houwer, a</td>\n",
       "      <td>annick</td>\n",
       "      <td>8</td>\n",
       "      <td>f</td>\n",
       "      <td>LANGUAGE AND LINGUISTICS</td>\n",
       "    </tr>\n",
       "    <tr>\n",
       "      <th>21</th>\n",
       "      <td>9357230</td>\n",
       "      <td>medaer, r</td>\n",
       "      <td>robert</td>\n",
       "      <td>41</td>\n",
       "      <td>m</td>\n",
       "      <td>BIOMEDICAL SCIENCES</td>\n",
       "    </tr>\n",
       "    <tr>\n",
       "      <th>22</th>\n",
       "      <td>9525472</td>\n",
       "      <td>golinval, jc</td>\n",
       "      <td>jean-claude</td>\n",
       "      <td>74</td>\n",
       "      <td>m</td>\n",
       "      <td>MECHANICAL ENGINEERING AND AEROSPACE</td>\n",
       "    </tr>\n",
       "    <tr>\n",
       "      <th>23</th>\n",
       "      <td>9557260</td>\n",
       "      <td>de smet, l</td>\n",
       "      <td>lina</td>\n",
       "      <td>56</td>\n",
       "      <td>f</td>\n",
       "      <td>BASIC LIFE SCIENCES</td>\n",
       "    </tr>\n",
       "    <tr>\n",
       "      <th>24</th>\n",
       "      <td>11196009</td>\n",
       "      <td>onghena, p</td>\n",
       "      <td>patrick</td>\n",
       "      <td>177</td>\n",
       "      <td>m</td>\n",
       "      <td>PSYCHOLOGY</td>\n",
       "    </tr>\n",
       "    <tr>\n",
       "      <th>25</th>\n",
       "      <td>11279673</td>\n",
       "      <td>koutsoukos, m</td>\n",
       "      <td>marguerite</td>\n",
       "      <td>28</td>\n",
       "      <td>f</td>\n",
       "      <td>BIOMEDICAL SCIENCES</td>\n",
       "    </tr>\n",
       "    <tr>\n",
       "      <th>26</th>\n",
       "      <td>13015079</td>\n",
       "      <td>pirnay, jp</td>\n",
       "      <td>jean-paul</td>\n",
       "      <td>81</td>\n",
       "      <td>m</td>\n",
       "      <td>BASIC LIFE SCIENCES</td>\n",
       "    </tr>\n",
       "    <tr>\n",
       "      <th>27</th>\n",
       "      <td>13027447</td>\n",
       "      <td>vleugels, j</td>\n",
       "      <td>jef</td>\n",
       "      <td>340</td>\n",
       "      <td>m</td>\n",
       "      <td>PHYSICS AND MATERIALS SCIENCE</td>\n",
       "    </tr>\n",
       "    <tr>\n",
       "      <th>28</th>\n",
       "      <td>13041301</td>\n",
       "      <td>de mol, p</td>\n",
       "      <td>patrick</td>\n",
       "      <td>52</td>\n",
       "      <td>m</td>\n",
       "      <td>CLINICAL MEDICINE</td>\n",
       "    </tr>\n",
       "    <tr>\n",
       "      <th>29</th>\n",
       "      <td>13195214</td>\n",
       "      <td>lynen, f</td>\n",
       "      <td>frederic</td>\n",
       "      <td>116</td>\n",
       "      <td>m</td>\n",
       "      <td>CHEMISTRY AND CHEMICAL ENGINEERING</td>\n",
       "    </tr>\n",
       "    <tr>\n",
       "      <th>...</th>\n",
       "      <td>...</td>\n",
       "      <td>...</td>\n",
       "      <td>...</td>\n",
       "      <td>...</td>\n",
       "      <td>...</td>\n",
       "      <td>...</td>\n",
       "    </tr>\n",
       "    <tr>\n",
       "      <th>7354</th>\n",
       "      <td>42453041</td>\n",
       "      <td>philippe, j</td>\n",
       "      <td>jan</td>\n",
       "      <td>161</td>\n",
       "      <td>m</td>\n",
       "      <td>CLINICAL MEDICINE</td>\n",
       "    </tr>\n",
       "    <tr>\n",
       "      <th>7355</th>\n",
       "      <td>42454862</td>\n",
       "      <td>fraipont, c</td>\n",
       "      <td>claudine</td>\n",
       "      <td>22</td>\n",
       "      <td>f</td>\n",
       "      <td>BASIC LIFE SCIENCES</td>\n",
       "    </tr>\n",
       "    <tr>\n",
       "      <th>7356</th>\n",
       "      <td>42739206</td>\n",
       "      <td>coomans, a</td>\n",
       "      <td>august</td>\n",
       "      <td>133</td>\n",
       "      <td>m</td>\n",
       "      <td>BIOLOGICAL SCIENCES</td>\n",
       "    </tr>\n",
       "    <tr>\n",
       "      <th>7357</th>\n",
       "      <td>43493840</td>\n",
       "      <td>debremaeker, r</td>\n",
       "      <td>raymond</td>\n",
       "      <td>11</td>\n",
       "      <td>m</td>\n",
       "      <td>MATHEMATICS</td>\n",
       "    </tr>\n",
       "    <tr>\n",
       "      <th>7358</th>\n",
       "      <td>43957614</td>\n",
       "      <td>ruysschaert, jm</td>\n",
       "      <td>jean-marie</td>\n",
       "      <td>487</td>\n",
       "      <td>m</td>\n",
       "      <td>BASIC LIFE SCIENCES</td>\n",
       "    </tr>\n",
       "    <tr>\n",
       "      <th>7359</th>\n",
       "      <td>44230860</td>\n",
       "      <td>ethgen, o</td>\n",
       "      <td>olivier</td>\n",
       "      <td>105</td>\n",
       "      <td>m</td>\n",
       "      <td>CLINICAL MEDICINE</td>\n",
       "    </tr>\n",
       "    <tr>\n",
       "      <th>7360</th>\n",
       "      <td>44252907</td>\n",
       "      <td>marien, s</td>\n",
       "      <td>steven</td>\n",
       "      <td>5</td>\n",
       "      <td>m</td>\n",
       "      <td>CLINICAL MEDICINE</td>\n",
       "    </tr>\n",
       "    <tr>\n",
       "      <th>7361</th>\n",
       "      <td>44809633</td>\n",
       "      <td>louahed, j</td>\n",
       "      <td>jamila</td>\n",
       "      <td>37</td>\n",
       "      <td>f</td>\n",
       "      <td>BIOMEDICAL SCIENCES</td>\n",
       "    </tr>\n",
       "    <tr>\n",
       "      <th>7362</th>\n",
       "      <td>44819008</td>\n",
       "      <td>ossemann, m</td>\n",
       "      <td>michel</td>\n",
       "      <td>46</td>\n",
       "      <td>m</td>\n",
       "      <td>CLINICAL MEDICINE</td>\n",
       "    </tr>\n",
       "    <tr>\n",
       "      <th>7363</th>\n",
       "      <td>46182980</td>\n",
       "      <td>hauzeur, jp</td>\n",
       "      <td>jean-philippe</td>\n",
       "      <td>52</td>\n",
       "      <td>m</td>\n",
       "      <td>CLINICAL MEDICINE</td>\n",
       "    </tr>\n",
       "    <tr>\n",
       "      <th>7364</th>\n",
       "      <td>46423319</td>\n",
       "      <td>muylle, s</td>\n",
       "      <td>sofie</td>\n",
       "      <td>27</td>\n",
       "      <td>f</td>\n",
       "      <td>CLINICAL MEDICINE</td>\n",
       "    </tr>\n",
       "    <tr>\n",
       "      <th>7365</th>\n",
       "      <td>46429318</td>\n",
       "      <td>cosemans, g</td>\n",
       "      <td>guido</td>\n",
       "      <td>18</td>\n",
       "      <td>m</td>\n",
       "      <td>ENVIRONMENTAL SCIENCES AND TECHNOLOGY</td>\n",
       "    </tr>\n",
       "    <tr>\n",
       "      <th>7366</th>\n",
       "      <td>47238004</td>\n",
       "      <td>van steenbrugge, m</td>\n",
       "      <td>martine</td>\n",
       "      <td>11</td>\n",
       "      <td>f</td>\n",
       "      <td>BASIC LIFE SCIENCES</td>\n",
       "    </tr>\n",
       "    <tr>\n",
       "      <th>7367</th>\n",
       "      <td>47240427</td>\n",
       "      <td>gruber, w</td>\n",
       "      <td>wolf</td>\n",
       "      <td>21</td>\n",
       "      <td>m</td>\n",
       "      <td>AGRICULTURE AND FOOD SCIENCE</td>\n",
       "    </tr>\n",
       "    <tr>\n",
       "      <th>7368</th>\n",
       "      <td>47462920</td>\n",
       "      <td>van der perre, l</td>\n",
       "      <td>liesbet</td>\n",
       "      <td>60</td>\n",
       "      <td>f</td>\n",
       "      <td>ELECTRICAL ENGINEERING AND TELECOMMUNICATION</td>\n",
       "    </tr>\n",
       "    <tr>\n",
       "      <th>7369</th>\n",
       "      <td>48136449</td>\n",
       "      <td>delhez, ejm</td>\n",
       "      <td>eric j. m.</td>\n",
       "      <td>49</td>\n",
       "      <td>m</td>\n",
       "      <td>EARTH SCIENCES AND TECHNOLOGY</td>\n",
       "    </tr>\n",
       "    <tr>\n",
       "      <th>7370</th>\n",
       "      <td>48503438</td>\n",
       "      <td>bosly, a</td>\n",
       "      <td>andre</td>\n",
       "      <td>319</td>\n",
       "      <td>m</td>\n",
       "      <td>CLINICAL MEDICINE</td>\n",
       "    </tr>\n",
       "    <tr>\n",
       "      <th>7371</th>\n",
       "      <td>48936222</td>\n",
       "      <td>pannecouque, c</td>\n",
       "      <td>christophe</td>\n",
       "      <td>419</td>\n",
       "      <td>m</td>\n",
       "      <td>BASIC MEDICAL SCIENCES</td>\n",
       "    </tr>\n",
       "    <tr>\n",
       "      <th>7372</th>\n",
       "      <td>49769572</td>\n",
       "      <td>langouche, g</td>\n",
       "      <td>guido</td>\n",
       "      <td>222</td>\n",
       "      <td>m</td>\n",
       "      <td>PHYSICS AND MATERIALS SCIENCE</td>\n",
       "    </tr>\n",
       "    <tr>\n",
       "      <th>7373</th>\n",
       "      <td>51256163</td>\n",
       "      <td>lafruit, g</td>\n",
       "      <td>gauthier</td>\n",
       "      <td>33</td>\n",
       "      <td>m</td>\n",
       "      <td>ELECTRICAL ENGINEERING AND TELECOMMUNICATION</td>\n",
       "    </tr>\n",
       "    <tr>\n",
       "      <th>7374</th>\n",
       "      <td>228908</td>\n",
       "      <td>frere, jm</td>\n",
       "      <td>jean-marie</td>\n",
       "      <td>361</td>\n",
       "      <td>m</td>\n",
       "      <td>BASIC LIFE SCIENCES</td>\n",
       "    </tr>\n",
       "    <tr>\n",
       "      <th>7375</th>\n",
       "      <td>228910</td>\n",
       "      <td>frere, jm</td>\n",
       "      <td>jean-marie</td>\n",
       "      <td>80</td>\n",
       "      <td>m</td>\n",
       "      <td>PHYSICS AND MATERIALS SCIENCE</td>\n",
       "    </tr>\n",
       "    <tr>\n",
       "      <th>7376</th>\n",
       "      <td>954398</td>\n",
       "      <td>janssens, m</td>\n",
       "      <td>maddy</td>\n",
       "      <td>33</td>\n",
       "      <td>f</td>\n",
       "      <td>MANAGEMENT AND PLANNING</td>\n",
       "    </tr>\n",
       "    <tr>\n",
       "      <th>7377</th>\n",
       "      <td>2393940</td>\n",
       "      <td>many, mc</td>\n",
       "      <td>marie-christine</td>\n",
       "      <td>83</td>\n",
       "      <td>f</td>\n",
       "      <td>CLINICAL MEDICINE</td>\n",
       "    </tr>\n",
       "    <tr>\n",
       "      <th>7378</th>\n",
       "      <td>2819225</td>\n",
       "      <td>bastiaansen, j</td>\n",
       "      <td>jeroen</td>\n",
       "      <td>15</td>\n",
       "      <td>m</td>\n",
       "      <td>PHYSICS AND MATERIALS SCIENCE</td>\n",
       "    </tr>\n",
       "    <tr>\n",
       "      <th>7379</th>\n",
       "      <td>3271231</td>\n",
       "      <td>nilius, b</td>\n",
       "      <td>bernd</td>\n",
       "      <td>544</td>\n",
       "      <td>m</td>\n",
       "      <td>BASIC LIFE SCIENCES</td>\n",
       "    </tr>\n",
       "    <tr>\n",
       "      <th>7380</th>\n",
       "      <td>4147529</td>\n",
       "      <td>kegels, g</td>\n",
       "      <td>guy</td>\n",
       "      <td>34</td>\n",
       "      <td>m</td>\n",
       "      <td>CLINICAL MEDICINE</td>\n",
       "    </tr>\n",
       "    <tr>\n",
       "      <th>7381</th>\n",
       "      <td>5074788</td>\n",
       "      <td>herregods, p</td>\n",
       "      <td>piet</td>\n",
       "      <td>4</td>\n",
       "      <td>m</td>\n",
       "      <td>CLINICAL MEDICINE</td>\n",
       "    </tr>\n",
       "    <tr>\n",
       "      <th>7382</th>\n",
       "      <td>5499903</td>\n",
       "      <td>bergmann, p</td>\n",
       "      <td>pierre</td>\n",
       "      <td>142</td>\n",
       "      <td>m</td>\n",
       "      <td>CLINICAL MEDICINE</td>\n",
       "    </tr>\n",
       "    <tr>\n",
       "      <th>7383</th>\n",
       "      <td>7850611</td>\n",
       "      <td>van cleemput, o</td>\n",
       "      <td>oswald</td>\n",
       "      <td>177</td>\n",
       "      <td>m</td>\n",
       "      <td>AGRICULTURE AND FOOD SCIENCE</td>\n",
       "    </tr>\n",
       "  </tbody>\n",
       "</table>\n",
       "<p>7384 rows × 6 columns</p>\n",
       "</div>"
      ],
      "text/plain": [
       "      author_id                full_name       first_name  n_pubs gender  \\\n",
       "0       1629293             van acker, k         kristien      31      f   \n",
       "1       1659248                 leyns, l              luc      31      m   \n",
       "2       1683873             thienpont, h             hugo     341      m   \n",
       "3       1712696                 gobin, a             anne      37      f   \n",
       "4       3221178                 fally, s           sophie      30      f   \n",
       "5       3244878                  houf, k             kurt     120      m   \n",
       "6       3250712                 crine, m           michel      95      m   \n",
       "7       3258114             kesteloot, c            chris       3      m   \n",
       "8       3281578               deplaen, e          etienne      75      m   \n",
       "9       5008328             van steen, a            andre      35      m   \n",
       "10      5031049             verspecht, j              jan      18      m   \n",
       "11      5076412            differding, e           edmond       4      m   \n",
       "12      5077852            christophe, c        catherine      66      f   \n",
       "13      5158915                  hans, p              pol     142      m   \n",
       "14      5160962               coroama, m          manuela       8      f   \n",
       "15      5194529               marchal, k         kathleen     148      f   \n",
       "16      6734742               wagers, ss            scott      29      m   \n",
       "17      8029540  delplancke-ogletree, mp      marie-paule      57      f   \n",
       "18      8037628                 claes, r             rita      10      f   \n",
       "19      8169942              van gaal, l              luc     463      m   \n",
       "20      9352700             de houwer, a           annick       8      f   \n",
       "21      9357230                medaer, r           robert      41      m   \n",
       "22      9525472             golinval, jc      jean-claude      74      m   \n",
       "23      9557260               de smet, l             lina      56      f   \n",
       "24     11196009               onghena, p          patrick     177      m   \n",
       "25     11279673            koutsoukos, m       marguerite      28      f   \n",
       "26     13015079               pirnay, jp        jean-paul      81      m   \n",
       "27     13027447              vleugels, j              jef     340      m   \n",
       "28     13041301                de mol, p          patrick      52      m   \n",
       "29     13195214                 lynen, f         frederic     116      m   \n",
       "...         ...                      ...              ...     ...    ...   \n",
       "7354   42453041              philippe, j              jan     161      m   \n",
       "7355   42454862              fraipont, c         claudine      22      f   \n",
       "7356   42739206               coomans, a           august     133      m   \n",
       "7357   43493840           debremaeker, r          raymond      11      m   \n",
       "7358   43957614          ruysschaert, jm       jean-marie     487      m   \n",
       "7359   44230860                ethgen, o          olivier     105      m   \n",
       "7360   44252907                marien, s           steven       5      m   \n",
       "7361   44809633               louahed, j           jamila      37      f   \n",
       "7362   44819008              ossemann, m           michel      46      m   \n",
       "7363   46182980              hauzeur, jp    jean-philippe      52      m   \n",
       "7364   46423319                muylle, s            sofie      27      f   \n",
       "7365   46429318              cosemans, g            guido      18      m   \n",
       "7366   47238004       van steenbrugge, m          martine      11      f   \n",
       "7367   47240427                gruber, w             wolf      21      m   \n",
       "7368   47462920         van der perre, l          liesbet      60      f   \n",
       "7369   48136449              delhez, ejm       eric j. m.      49      m   \n",
       "7370   48503438                 bosly, a            andre     319      m   \n",
       "7371   48936222           pannecouque, c       christophe     419      m   \n",
       "7372   49769572             langouche, g            guido     222      m   \n",
       "7373   51256163               lafruit, g         gauthier      33      m   \n",
       "7374     228908                frere, jm       jean-marie     361      m   \n",
       "7375     228910                frere, jm       jean-marie      80      m   \n",
       "7376     954398              janssens, m            maddy      33      f   \n",
       "7377    2393940                 many, mc  marie-christine      83      f   \n",
       "7378    2819225           bastiaansen, j           jeroen      15      m   \n",
       "7379    3271231                nilius, b            bernd     544      m   \n",
       "7380    4147529                kegels, g              guy      34      m   \n",
       "7381    5074788             herregods, p             piet       4      m   \n",
       "7382    5499903              bergmann, p           pierre     142      m   \n",
       "7383    7850611          van cleemput, o           oswald     177      m   \n",
       "\n",
       "                                        discipline  \n",
       "0                                CLINICAL MEDICINE  \n",
       "1                              BASIC LIFE SCIENCES  \n",
       "2                    PHYSICS AND MATERIALS SCIENCE  \n",
       "3            ENVIRONMENTAL SCIENCES AND TECHNOLOGY  \n",
       "4               CHEMISTRY AND CHEMICAL ENGINEERING  \n",
       "5                              BASIC LIFE SCIENCES  \n",
       "6               CHEMISTRY AND CHEMICAL ENGINEERING  \n",
       "7            ENVIRONMENTAL SCIENCES AND TECHNOLOGY  \n",
       "8                              BASIC LIFE SCIENCES  \n",
       "9                                CLINICAL MEDICINE  \n",
       "10    ELECTRICAL ENGINEERING AND TELECOMMUNICATION  \n",
       "11              CHEMISTRY AND CHEMICAL ENGINEERING  \n",
       "12                               CLINICAL MEDICINE  \n",
       "13                               CLINICAL MEDICINE  \n",
       "14                             BIOMEDICAL SCIENCES  \n",
       "15                             BASIC LIFE SCIENCES  \n",
       "16                               CLINICAL MEDICINE  \n",
       "17                   PHYSICS AND MATERIALS SCIENCE  \n",
       "18                                      PSYCHOLOGY  \n",
       "19                               CLINICAL MEDICINE  \n",
       "20                        LANGUAGE AND LINGUISTICS  \n",
       "21                             BIOMEDICAL SCIENCES  \n",
       "22            MECHANICAL ENGINEERING AND AEROSPACE  \n",
       "23                             BASIC LIFE SCIENCES  \n",
       "24                                      PSYCHOLOGY  \n",
       "25                             BIOMEDICAL SCIENCES  \n",
       "26                             BASIC LIFE SCIENCES  \n",
       "27                   PHYSICS AND MATERIALS SCIENCE  \n",
       "28                               CLINICAL MEDICINE  \n",
       "29              CHEMISTRY AND CHEMICAL ENGINEERING  \n",
       "...                                            ...  \n",
       "7354                             CLINICAL MEDICINE  \n",
       "7355                           BASIC LIFE SCIENCES  \n",
       "7356                           BIOLOGICAL SCIENCES  \n",
       "7357                                   MATHEMATICS  \n",
       "7358                           BASIC LIFE SCIENCES  \n",
       "7359                             CLINICAL MEDICINE  \n",
       "7360                             CLINICAL MEDICINE  \n",
       "7361                           BIOMEDICAL SCIENCES  \n",
       "7362                             CLINICAL MEDICINE  \n",
       "7363                             CLINICAL MEDICINE  \n",
       "7364                             CLINICAL MEDICINE  \n",
       "7365         ENVIRONMENTAL SCIENCES AND TECHNOLOGY  \n",
       "7366                           BASIC LIFE SCIENCES  \n",
       "7367                  AGRICULTURE AND FOOD SCIENCE  \n",
       "7368  ELECTRICAL ENGINEERING AND TELECOMMUNICATION  \n",
       "7369                 EARTH SCIENCES AND TECHNOLOGY  \n",
       "7370                             CLINICAL MEDICINE  \n",
       "7371                        BASIC MEDICAL SCIENCES  \n",
       "7372                 PHYSICS AND MATERIALS SCIENCE  \n",
       "7373  ELECTRICAL ENGINEERING AND TELECOMMUNICATION  \n",
       "7374                           BASIC LIFE SCIENCES  \n",
       "7375                 PHYSICS AND MATERIALS SCIENCE  \n",
       "7376                       MANAGEMENT AND PLANNING  \n",
       "7377                             CLINICAL MEDICINE  \n",
       "7378                 PHYSICS AND MATERIALS SCIENCE  \n",
       "7379                           BASIC LIFE SCIENCES  \n",
       "7380                             CLINICAL MEDICINE  \n",
       "7381                             CLINICAL MEDICINE  \n",
       "7382                             CLINICAL MEDICINE  \n",
       "7383                  AGRICULTURE AND FOOD SCIENCE  \n",
       "\n",
       "[7384 rows x 6 columns]"
      ]
     },
     "execution_count": 3,
     "metadata": {},
     "output_type": "execute_result"
    }
   ],
   "source": [
    "authors_df"
   ]
  },
  {
   "cell_type": "markdown",
   "metadata": {},
   "source": [
    "After execution you will see quite a long table with multiple columns. At the bottom it is displayed how many rows and how many columns are stored in the table. The columns provide different types of information about the authors.\n",
    "\n",
    "Besides the id and the names, it shows the total number of publications available from the WoS, the gender and the discipline in which the authors most frequently published. \n",
    "\n",
    "We made a selection of all authors in Belgium who have first published before 2000 and have last published after 2010."
   ]
  },
  {
   "cell_type": "markdown",
   "metadata": {},
   "source": [
    "Let us now try to load the collaboration. You should be able to do that yourself by filling in the blanks below. The file you want to load is called `collaboration.txt`."
   ]
  },
  {
   "cell_type": "code",
   "execution_count": 4,
   "metadata": {
    "collapsed": true
   },
   "outputs": [],
   "source": [
    "collaboration_df = pd.read_csv('collaboration.txt', sep='\\t')"
   ]
  },
  {
   "cell_type": "markdown",
   "metadata": {},
   "source": [
    "Take a closer look at what is stored in `collaboration_df`."
   ]
  },
  {
   "cell_type": "code",
   "execution_count": 5,
   "metadata": {
    "scrolled": true
   },
   "outputs": [
    {
     "data": {
      "text/html": [
       "<div>\n",
       "<style scoped>\n",
       "    .dataframe tbody tr th:only-of-type {\n",
       "        vertical-align: middle;\n",
       "    }\n",
       "\n",
       "    .dataframe tbody tr th {\n",
       "        vertical-align: top;\n",
       "    }\n",
       "\n",
       "    .dataframe thead th {\n",
       "        text-align: right;\n",
       "    }\n",
       "</style>\n",
       "<table border=\"1\" class=\"dataframe\">\n",
       "  <thead>\n",
       "    <tr style=\"text-align: right;\">\n",
       "      <th></th>\n",
       "      <th>author_idA</th>\n",
       "      <th>author_idB</th>\n",
       "      <th>n_joint_papers</th>\n",
       "      <th>n_joint_papers_frac</th>\n",
       "    </tr>\n",
       "  </thead>\n",
       "  <tbody>\n",
       "    <tr>\n",
       "      <th>0</th>\n",
       "      <td>336996</td>\n",
       "      <td>690940</td>\n",
       "      <td>4</td>\n",
       "      <td>0.396465</td>\n",
       "    </tr>\n",
       "    <tr>\n",
       "      <th>1</th>\n",
       "      <td>2366</td>\n",
       "      <td>870892</td>\n",
       "      <td>1</td>\n",
       "      <td>0.125000</td>\n",
       "    </tr>\n",
       "    <tr>\n",
       "      <th>2</th>\n",
       "      <td>1105541</td>\n",
       "      <td>1229707</td>\n",
       "      <td>1</td>\n",
       "      <td>0.200000</td>\n",
       "    </tr>\n",
       "    <tr>\n",
       "      <th>3</th>\n",
       "      <td>228908</td>\n",
       "      <td>1250652</td>\n",
       "      <td>1</td>\n",
       "      <td>0.090909</td>\n",
       "    </tr>\n",
       "    <tr>\n",
       "      <th>4</th>\n",
       "      <td>587063</td>\n",
       "      <td>1510779</td>\n",
       "      <td>1</td>\n",
       "      <td>0.125000</td>\n",
       "    </tr>\n",
       "    <tr>\n",
       "      <th>5</th>\n",
       "      <td>957212</td>\n",
       "      <td>1510779</td>\n",
       "      <td>1</td>\n",
       "      <td>0.200000</td>\n",
       "    </tr>\n",
       "    <tr>\n",
       "      <th>6</th>\n",
       "      <td>1185134</td>\n",
       "      <td>1525771</td>\n",
       "      <td>3</td>\n",
       "      <td>0.235354</td>\n",
       "    </tr>\n",
       "    <tr>\n",
       "      <th>7</th>\n",
       "      <td>1150300</td>\n",
       "      <td>1578924</td>\n",
       "      <td>10</td>\n",
       "      <td>1.961905</td>\n",
       "    </tr>\n",
       "    <tr>\n",
       "      <th>8</th>\n",
       "      <td>1402267</td>\n",
       "      <td>1590098</td>\n",
       "      <td>1</td>\n",
       "      <td>0.166667</td>\n",
       "    </tr>\n",
       "    <tr>\n",
       "      <th>9</th>\n",
       "      <td>1496522</td>\n",
       "      <td>1619435</td>\n",
       "      <td>1</td>\n",
       "      <td>0.166667</td>\n",
       "    </tr>\n",
       "    <tr>\n",
       "      <th>10</th>\n",
       "      <td>858370</td>\n",
       "      <td>1648344</td>\n",
       "      <td>6</td>\n",
       "      <td>0.703968</td>\n",
       "    </tr>\n",
       "    <tr>\n",
       "      <th>11</th>\n",
       "      <td>1396309</td>\n",
       "      <td>1686223</td>\n",
       "      <td>3</td>\n",
       "      <td>0.238034</td>\n",
       "    </tr>\n",
       "    <tr>\n",
       "      <th>12</th>\n",
       "      <td>1235648</td>\n",
       "      <td>1776179</td>\n",
       "      <td>2</td>\n",
       "      <td>0.392857</td>\n",
       "    </tr>\n",
       "    <tr>\n",
       "      <th>13</th>\n",
       "      <td>228908</td>\n",
       "      <td>1865068</td>\n",
       "      <td>1</td>\n",
       "      <td>0.142857</td>\n",
       "    </tr>\n",
       "    <tr>\n",
       "      <th>14</th>\n",
       "      <td>177580</td>\n",
       "      <td>1950174</td>\n",
       "      <td>1</td>\n",
       "      <td>0.000862</td>\n",
       "    </tr>\n",
       "    <tr>\n",
       "      <th>15</th>\n",
       "      <td>712976</td>\n",
       "      <td>2146972</td>\n",
       "      <td>5</td>\n",
       "      <td>1.200000</td>\n",
       "    </tr>\n",
       "    <tr>\n",
       "      <th>16</th>\n",
       "      <td>667983</td>\n",
       "      <td>2217101</td>\n",
       "      <td>9</td>\n",
       "      <td>0.816520</td>\n",
       "    </tr>\n",
       "    <tr>\n",
       "      <th>17</th>\n",
       "      <td>981772</td>\n",
       "      <td>2258215</td>\n",
       "      <td>6</td>\n",
       "      <td>0.658333</td>\n",
       "    </tr>\n",
       "    <tr>\n",
       "      <th>18</th>\n",
       "      <td>1425048</td>\n",
       "      <td>2259833</td>\n",
       "      <td>3</td>\n",
       "      <td>0.507576</td>\n",
       "    </tr>\n",
       "    <tr>\n",
       "      <th>19</th>\n",
       "      <td>969473</td>\n",
       "      <td>2312743</td>\n",
       "      <td>2</td>\n",
       "      <td>0.222222</td>\n",
       "    </tr>\n",
       "    <tr>\n",
       "      <th>20</th>\n",
       "      <td>801988</td>\n",
       "      <td>2351832</td>\n",
       "      <td>2</td>\n",
       "      <td>0.250000</td>\n",
       "    </tr>\n",
       "    <tr>\n",
       "      <th>21</th>\n",
       "      <td>1683873</td>\n",
       "      <td>2497304</td>\n",
       "      <td>3</td>\n",
       "      <td>0.244755</td>\n",
       "    </tr>\n",
       "    <tr>\n",
       "      <th>22</th>\n",
       "      <td>1831419</td>\n",
       "      <td>2497304</td>\n",
       "      <td>8</td>\n",
       "      <td>1.142857</td>\n",
       "    </tr>\n",
       "    <tr>\n",
       "      <th>23</th>\n",
       "      <td>336996</td>\n",
       "      <td>2573323</td>\n",
       "      <td>2</td>\n",
       "      <td>0.366667</td>\n",
       "    </tr>\n",
       "    <tr>\n",
       "      <th>24</th>\n",
       "      <td>2312743</td>\n",
       "      <td>2573323</td>\n",
       "      <td>6</td>\n",
       "      <td>0.837302</td>\n",
       "    </tr>\n",
       "    <tr>\n",
       "      <th>25</th>\n",
       "      <td>2580845</td>\n",
       "      <td>2616030</td>\n",
       "      <td>1</td>\n",
       "      <td>0.111111</td>\n",
       "    </tr>\n",
       "    <tr>\n",
       "      <th>26</th>\n",
       "      <td>1470337</td>\n",
       "      <td>2708133</td>\n",
       "      <td>1</td>\n",
       "      <td>0.029412</td>\n",
       "    </tr>\n",
       "    <tr>\n",
       "      <th>27</th>\n",
       "      <td>2256627</td>\n",
       "      <td>2714384</td>\n",
       "      <td>1</td>\n",
       "      <td>0.333333</td>\n",
       "    </tr>\n",
       "    <tr>\n",
       "      <th>28</th>\n",
       "      <td>858451</td>\n",
       "      <td>2722709</td>\n",
       "      <td>5</td>\n",
       "      <td>0.638889</td>\n",
       "    </tr>\n",
       "    <tr>\n",
       "      <th>29</th>\n",
       "      <td>2616030</td>\n",
       "      <td>2767783</td>\n",
       "      <td>5</td>\n",
       "      <td>0.916667</td>\n",
       "    </tr>\n",
       "    <tr>\n",
       "      <th>...</th>\n",
       "      <td>...</td>\n",
       "      <td>...</td>\n",
       "      <td>...</td>\n",
       "      <td>...</td>\n",
       "    </tr>\n",
       "    <tr>\n",
       "      <th>90006</th>\n",
       "      <td>4377473</td>\n",
       "      <td>51556213</td>\n",
       "      <td>1</td>\n",
       "      <td>0.200000</td>\n",
       "    </tr>\n",
       "    <tr>\n",
       "      <th>90007</th>\n",
       "      <td>9305877</td>\n",
       "      <td>51556213</td>\n",
       "      <td>1</td>\n",
       "      <td>0.125000</td>\n",
       "    </tr>\n",
       "    <tr>\n",
       "      <th>90008</th>\n",
       "      <td>12626101</td>\n",
       "      <td>51556213</td>\n",
       "      <td>1</td>\n",
       "      <td>0.166667</td>\n",
       "    </tr>\n",
       "    <tr>\n",
       "      <th>90009</th>\n",
       "      <td>13158084</td>\n",
       "      <td>51556213</td>\n",
       "      <td>4</td>\n",
       "      <td>0.440909</td>\n",
       "    </tr>\n",
       "    <tr>\n",
       "      <th>90010</th>\n",
       "      <td>20803183</td>\n",
       "      <td>51556213</td>\n",
       "      <td>1</td>\n",
       "      <td>0.050000</td>\n",
       "    </tr>\n",
       "    <tr>\n",
       "      <th>90011</th>\n",
       "      <td>31473813</td>\n",
       "      <td>51556213</td>\n",
       "      <td>1</td>\n",
       "      <td>0.050000</td>\n",
       "    </tr>\n",
       "    <tr>\n",
       "      <th>90012</th>\n",
       "      <td>31486569</td>\n",
       "      <td>51556213</td>\n",
       "      <td>11</td>\n",
       "      <td>0.576804</td>\n",
       "    </tr>\n",
       "    <tr>\n",
       "      <th>90013</th>\n",
       "      <td>34749717</td>\n",
       "      <td>51556213</td>\n",
       "      <td>32</td>\n",
       "      <td>1.738591</td>\n",
       "    </tr>\n",
       "    <tr>\n",
       "      <th>90014</th>\n",
       "      <td>38483563</td>\n",
       "      <td>51556213</td>\n",
       "      <td>1</td>\n",
       "      <td>0.166667</td>\n",
       "    </tr>\n",
       "    <tr>\n",
       "      <th>90015</th>\n",
       "      <td>39052886</td>\n",
       "      <td>51556213</td>\n",
       "      <td>6</td>\n",
       "      <td>0.466123</td>\n",
       "    </tr>\n",
       "    <tr>\n",
       "      <th>90016</th>\n",
       "      <td>44888268</td>\n",
       "      <td>51556213</td>\n",
       "      <td>2</td>\n",
       "      <td>0.222222</td>\n",
       "    </tr>\n",
       "    <tr>\n",
       "      <th>90017</th>\n",
       "      <td>16995734</td>\n",
       "      <td>51562561</td>\n",
       "      <td>1</td>\n",
       "      <td>0.111111</td>\n",
       "    </tr>\n",
       "    <tr>\n",
       "      <th>90018</th>\n",
       "      <td>22980229</td>\n",
       "      <td>51562561</td>\n",
       "      <td>1</td>\n",
       "      <td>0.125000</td>\n",
       "    </tr>\n",
       "    <tr>\n",
       "      <th>90019</th>\n",
       "      <td>27382294</td>\n",
       "      <td>51562561</td>\n",
       "      <td>1</td>\n",
       "      <td>0.090909</td>\n",
       "    </tr>\n",
       "    <tr>\n",
       "      <th>90020</th>\n",
       "      <td>40551644</td>\n",
       "      <td>51562561</td>\n",
       "      <td>2</td>\n",
       "      <td>0.171429</td>\n",
       "    </tr>\n",
       "    <tr>\n",
       "      <th>90021</th>\n",
       "      <td>40679329</td>\n",
       "      <td>51562561</td>\n",
       "      <td>1</td>\n",
       "      <td>0.200000</td>\n",
       "    </tr>\n",
       "    <tr>\n",
       "      <th>90022</th>\n",
       "      <td>42618378</td>\n",
       "      <td>51562561</td>\n",
       "      <td>2</td>\n",
       "      <td>0.181818</td>\n",
       "    </tr>\n",
       "    <tr>\n",
       "      <th>90023</th>\n",
       "      <td>42729602</td>\n",
       "      <td>51562561</td>\n",
       "      <td>6</td>\n",
       "      <td>1.476190</td>\n",
       "    </tr>\n",
       "    <tr>\n",
       "      <th>90024</th>\n",
       "      <td>6813798</td>\n",
       "      <td>51572384</td>\n",
       "      <td>39</td>\n",
       "      <td>6.197630</td>\n",
       "    </tr>\n",
       "    <tr>\n",
       "      <th>90025</th>\n",
       "      <td>18282750</td>\n",
       "      <td>51572384</td>\n",
       "      <td>1</td>\n",
       "      <td>0.166667</td>\n",
       "    </tr>\n",
       "    <tr>\n",
       "      <th>90026</th>\n",
       "      <td>19675058</td>\n",
       "      <td>51572384</td>\n",
       "      <td>1</td>\n",
       "      <td>0.125000</td>\n",
       "    </tr>\n",
       "    <tr>\n",
       "      <th>90027</th>\n",
       "      <td>36271026</td>\n",
       "      <td>51572384</td>\n",
       "      <td>1</td>\n",
       "      <td>0.100000</td>\n",
       "    </tr>\n",
       "    <tr>\n",
       "      <th>90028</th>\n",
       "      <td>40411513</td>\n",
       "      <td>51572384</td>\n",
       "      <td>8</td>\n",
       "      <td>0.707154</td>\n",
       "    </tr>\n",
       "    <tr>\n",
       "      <th>90029</th>\n",
       "      <td>3434109</td>\n",
       "      <td>51587411</td>\n",
       "      <td>47</td>\n",
       "      <td>14.050000</td>\n",
       "    </tr>\n",
       "    <tr>\n",
       "      <th>90030</th>\n",
       "      <td>23209191</td>\n",
       "      <td>51587411</td>\n",
       "      <td>2</td>\n",
       "      <td>0.291667</td>\n",
       "    </tr>\n",
       "    <tr>\n",
       "      <th>90031</th>\n",
       "      <td>27846458</td>\n",
       "      <td>51587411</td>\n",
       "      <td>1</td>\n",
       "      <td>0.200000</td>\n",
       "    </tr>\n",
       "    <tr>\n",
       "      <th>90032</th>\n",
       "      <td>28333141</td>\n",
       "      <td>51587411</td>\n",
       "      <td>2</td>\n",
       "      <td>0.500000</td>\n",
       "    </tr>\n",
       "    <tr>\n",
       "      <th>90033</th>\n",
       "      <td>2406006</td>\n",
       "      <td>51592311</td>\n",
       "      <td>7</td>\n",
       "      <td>0.725000</td>\n",
       "    </tr>\n",
       "    <tr>\n",
       "      <th>90034</th>\n",
       "      <td>24969691</td>\n",
       "      <td>51592311</td>\n",
       "      <td>4</td>\n",
       "      <td>0.535714</td>\n",
       "    </tr>\n",
       "    <tr>\n",
       "      <th>90035</th>\n",
       "      <td>16679218</td>\n",
       "      <td>51593365</td>\n",
       "      <td>1</td>\n",
       "      <td>0.071429</td>\n",
       "    </tr>\n",
       "  </tbody>\n",
       "</table>\n",
       "<p>90036 rows × 4 columns</p>\n",
       "</div>"
      ],
      "text/plain": [
       "       author_idA  author_idB  n_joint_papers  n_joint_papers_frac\n",
       "0          336996      690940               4             0.396465\n",
       "1            2366      870892               1             0.125000\n",
       "2         1105541     1229707               1             0.200000\n",
       "3          228908     1250652               1             0.090909\n",
       "4          587063     1510779               1             0.125000\n",
       "5          957212     1510779               1             0.200000\n",
       "6         1185134     1525771               3             0.235354\n",
       "7         1150300     1578924              10             1.961905\n",
       "8         1402267     1590098               1             0.166667\n",
       "9         1496522     1619435               1             0.166667\n",
       "10         858370     1648344               6             0.703968\n",
       "11        1396309     1686223               3             0.238034\n",
       "12        1235648     1776179               2             0.392857\n",
       "13         228908     1865068               1             0.142857\n",
       "14         177580     1950174               1             0.000862\n",
       "15         712976     2146972               5             1.200000\n",
       "16         667983     2217101               9             0.816520\n",
       "17         981772     2258215               6             0.658333\n",
       "18        1425048     2259833               3             0.507576\n",
       "19         969473     2312743               2             0.222222\n",
       "20         801988     2351832               2             0.250000\n",
       "21        1683873     2497304               3             0.244755\n",
       "22        1831419     2497304               8             1.142857\n",
       "23         336996     2573323               2             0.366667\n",
       "24        2312743     2573323               6             0.837302\n",
       "25        2580845     2616030               1             0.111111\n",
       "26        1470337     2708133               1             0.029412\n",
       "27        2256627     2714384               1             0.333333\n",
       "28         858451     2722709               5             0.638889\n",
       "29        2616030     2767783               5             0.916667\n",
       "...           ...         ...             ...                  ...\n",
       "90006     4377473    51556213               1             0.200000\n",
       "90007     9305877    51556213               1             0.125000\n",
       "90008    12626101    51556213               1             0.166667\n",
       "90009    13158084    51556213               4             0.440909\n",
       "90010    20803183    51556213               1             0.050000\n",
       "90011    31473813    51556213               1             0.050000\n",
       "90012    31486569    51556213              11             0.576804\n",
       "90013    34749717    51556213              32             1.738591\n",
       "90014    38483563    51556213               1             0.166667\n",
       "90015    39052886    51556213               6             0.466123\n",
       "90016    44888268    51556213               2             0.222222\n",
       "90017    16995734    51562561               1             0.111111\n",
       "90018    22980229    51562561               1             0.125000\n",
       "90019    27382294    51562561               1             0.090909\n",
       "90020    40551644    51562561               2             0.171429\n",
       "90021    40679329    51562561               1             0.200000\n",
       "90022    42618378    51562561               2             0.181818\n",
       "90023    42729602    51562561               6             1.476190\n",
       "90024     6813798    51572384              39             6.197630\n",
       "90025    18282750    51572384               1             0.166667\n",
       "90026    19675058    51572384               1             0.125000\n",
       "90027    36271026    51572384               1             0.100000\n",
       "90028    40411513    51572384               8             0.707154\n",
       "90029     3434109    51587411              47            14.050000\n",
       "90030    23209191    51587411               2             0.291667\n",
       "90031    27846458    51587411               1             0.200000\n",
       "90032    28333141    51587411               2             0.500000\n",
       "90033     2406006    51592311               7             0.725000\n",
       "90034    24969691    51592311               4             0.535714\n",
       "90035    16679218    51593365               1             0.071429\n",
       "\n",
       "[90036 rows x 4 columns]"
      ]
     },
     "execution_count": 5,
     "metadata": {},
     "output_type": "execute_result"
    }
   ],
   "source": [
    "collaboration_df"
   ]
  },
  {
   "cell_type": "markdown",
   "metadata": {},
   "source": [
    "How many links are there in the collaboration network?"
   ]
  },
  {
   "cell_type": "markdown",
   "metadata": {},
   "source": [
    "## Creating a network"
   ]
  },
  {
   "cell_type": "markdown",
   "metadata": {},
   "source": [
    "We now have everything we need to construct our collaboration network. In order to work with networks, we again have to import another package. This package is called `igraph`. Try to import it yourself, and call the package `ig`."
   ]
  },
  {
   "cell_type": "code",
   "execution_count": 6,
   "metadata": {
    "collapsed": true
   },
   "outputs": [],
   "source": [
    "import igraph as ig"
   ]
  },
  {
   "cell_type": "markdown",
   "metadata": {},
   "source": [
    "We now provide the data stored in `authors_df` and `collaboration_df` to the package `igraph` in order to construct a network. The terminology of the package is somewhat different, and a network is called a *graph*, nodes are called *vertices* and links are called *edges*. They all refer to the same respective concepts, only the terminology is different."
   ]
  },
  {
   "cell_type": "code",
   "execution_count": 7,
   "metadata": {
    "collapsed": true
   },
   "outputs": [],
   "source": [
    "G_collaboration = ig.Graph.DictList(\n",
    "      vertices=authors_df.to_dict('records'),\n",
    "      edges=collaboration_df.to_dict('records'),\n",
    "      vertex_name_attr='author_id',\n",
    "      edge_foreign_keys=('author_idA', 'author_idB'),\n",
    "      directed=False\n",
    "      )"
   ]
  },
  {
   "cell_type": "markdown",
   "metadata": {},
   "source": [
    "Calling the function `.to_dict('records')` changes the data format to something that `igraph` can work with. The `vertex_name_attr` denotes the column of `authors_df` that serves as the identifier of that node. The `edge_foreign_keys` indicate what columns of `collaboration_df` serves to identify the two endpoints of a collaboration link. Finally, by stating `directed=False` we indicate that we create an undirected graph,"
   ]
  },
  {
   "cell_type": "markdown",
   "metadata": {},
   "source": [
    "We now have created our collaboration network! Before we go into the analysis of the network, let us first look at a brief summary of the network."
   ]
  },
  {
   "cell_type": "code",
   "execution_count": 8,
   "metadata": {},
   "outputs": [
    {
     "data": {
      "text/plain": [
       "'IGRAPH U--- 7384 90036 -- \\n+ attr: author_id (v), discipline (v), first_name (v), full_name (v), gender (v), n_pubs (v), author_idA (e), author_idB (e), n_joint_papers (e), n_joint_papers_frac (e)'"
      ]
     },
     "execution_count": 8,
     "metadata": {},
     "output_type": "execute_result"
    }
   ],
   "source": [
    "G_collaboration.summary()"
   ]
  },
  {
   "cell_type": "markdown",
   "metadata": {},
   "source": [
    "The first part indicates that we have an undirected graph (`U`) with 7384 nodes and 90036 links. Does that match up with the number of rows from `authors_df` and `collaboration_df`?\n",
    "\n",
    "After that, you will see the columns of `authors_df` that are now available as vertex attributes (indicated by the `v` behind the name of the attribute), and the columns of `collaboration_df` that are now available as edge attributes (indicated by the `e`)."
   ]
  },
  {
   "cell_type": "markdown",
   "metadata": {},
   "source": [
    "# Network analysis"
   ]
  },
  {
   "cell_type": "markdown",
   "metadata": {},
   "source": [
    "Now that we loaded everything we can start taking a closer look to the network and try to analyse it."
   ]
  },
  {
   "cell_type": "markdown",
   "metadata": {},
   "source": [
    "## Connectivity"
   ]
  },
  {
   "cell_type": "markdown",
   "metadata": {},
   "source": [
    "Let us start with a very simple question. Is it connected?"
   ]
  },
  {
   "cell_type": "code",
   "execution_count": null,
   "metadata": {},
   "outputs": [],
   "source": [
    "G_collaboration.is_connected()"
   ]
  },
  {
   "cell_type": "markdown",
   "metadata": {},
   "source": [
    "Apparently, not all authors in Belgium are connected via co-authored papers. How many authors do you think will be connected to each other? \n",
    "\n",
    "In order to take a closer look, we need to detect the connected components. This is easily done, but the function is confusingly called `clusters`."
   ]
  },
  {
   "cell_type": "code",
   "execution_count": null,
   "metadata": {
    "collapsed": true
   },
   "outputs": [],
   "source": [
    "components = G_collaboration.clusters()"
   ]
  },
  {
   "cell_type": "markdown",
   "metadata": {},
   "source": [
    "We only want the so-called giant component. "
   ]
  },
  {
   "cell_type": "markdown",
   "metadata": {},
   "source": [
    "<div class=\"alert alert-success\">\n",
    "Now it is time to introduce you a little trick: you can get a list of all functions of the variable `components`, by simply typing `components.` and then press `Tab` (make sure the cursor is located after the `.`). If you then start typing the name of the function you are looking for and press `Tab` again, Python will automatically finish it as much as possible.\n",
    "</div>"
   ]
  },
  {
   "cell_type": "code",
   "execution_count": null,
   "metadata": {},
   "outputs": [],
   "source": [
    "components.giant()"
   ]
  },
  {
   "cell_type": "markdown",
   "metadata": {},
   "source": [
    "What function do you think returns the giant component?"
   ]
  },
  {
   "cell_type": "markdown",
   "metadata": {},
   "source": [
    "<div class=\"alert alert-success\">\n",
    "Time for one other trick: go back to the previous code cell, and select the function you think returns the giant component. Put the cursor anywhere on the function and press `Shift-Tab`. You now get a little bit more documentation of what this function does. You can press the `+` to find out more.\n",
    "</div>"
   ]
  },
  {
   "cell_type": "markdown",
   "metadata": {},
   "source": [
    "Now let us only look at the giant component."
   ]
  },
  {
   "cell_type": "code",
   "execution_count": null,
   "metadata": {
    "collapsed": true
   },
   "outputs": [],
   "source": [
    "H = components.giant()"
   ]
  },
  {
   "cell_type": "markdown",
   "metadata": {},
   "source": [
    "Let us check how many nodes are in the giant component. Remember, we can again call the function `.summary`."
   ]
  },
  {
   "cell_type": "code",
   "execution_count": null,
   "metadata": {},
   "outputs": [],
   "source": [
    "H.summary()"
   ]
  },
  {
   "cell_type": "markdown",
   "metadata": {},
   "source": [
    "The giant component includes over 94% of the nodes and more than 99.9% of the links of the complete graph."
   ]
  },
  {
   "cell_type": "markdown",
   "metadata": {},
   "source": [
    "Let us take a closer look at how far authors in Belgium are apart from one another. Let us simply take a look at node number 0 (the first node has number 0, not 1) and node number 1. "
   ]
  },
  {
   "cell_type": "code",
   "execution_count": 9,
   "metadata": {},
   "outputs": [
    {
     "data": {
      "text/plain": [
       "[[0, 2531, 6863, 1]]"
      ]
     },
     "execution_count": 9,
     "metadata": {},
     "output_type": "execute_result"
    }
   ],
   "source": [
    "path = G_collaboration.get_shortest_paths(0, 1)\n",
    "path"
   ]
  },
  {
   "cell_type": "markdown",
   "metadata": {},
   "source": [
    "This returns the path of the nodes between node number 0 and node number 1. How many nodes are in the path? What is the path length?\n",
    "\n",
    "Perhaps these numbers do not mean that much to you. You can find out more of an individual node by looking at the `VertexSequence` of `igraph`, abbreviated as `vs`. This is a sort of list of all vertices, and is indexed by brackets `[ ]` instead of using parentheses `( )` as we do with functions."
   ]
  },
  {
   "cell_type": "code",
   "execution_count": 10,
   "metadata": {},
   "outputs": [
    {
     "data": {
      "text/plain": [
       "igraph.Vertex(<igraph.Graph object at 0x0000000007A7B4F8>, 0, {'author_id': 1629293, 'full_name': 'van acker, k', 'first_name': 'kristien', 'n_pubs': 31, 'gender': 'f', 'discipline': 'CLINICAL MEDICINE'})"
      ]
     },
     "execution_count": 10,
     "metadata": {},
     "output_type": "execute_result"
    }
   ],
   "source": [
    "G_collaboration.vs[0]"
   ]
  },
  {
   "cell_type": "markdown",
   "metadata": {},
   "source": [
    "The vertex itself is also a type of list, and you can only return the name as follows"
   ]
  },
  {
   "cell_type": "code",
   "execution_count": 11,
   "metadata": {},
   "outputs": [
    {
     "data": {
      "text/plain": [
       "'van acker, k'"
      ]
     },
     "execution_count": 11,
     "metadata": {},
     "output_type": "execute_result"
    }
   ],
   "source": [
    "G_collaboration.vs[0]['full_name']"
   ]
  },
  {
   "cell_type": "markdown",
   "metadata": {},
   "source": [
    "In fact, you can also list multiple vertices at once."
   ]
  },
  {
   "cell_type": "code",
   "execution_count": 12,
   "metadata": {},
   "outputs": [
    {
     "data": {
      "text/plain": [
       "['van acker, k', 'janssen, f', 'carlon, e', 'leyns, l']"
      ]
     },
     "execution_count": 12,
     "metadata": {},
     "output_type": "execute_result"
    }
   ],
   "source": [
    "G_collaboration.vs[[0, 2384, 6486, 1]]['full_name']"
   ]
  },
  {
   "cell_type": "markdown",
   "metadata": {},
   "source": [
    "This shows that Van Acker collaborated with Janssen, who collaborated with Carlon, who in the end collaborated with Leyns."
   ]
  },
  {
   "cell_type": "markdown",
   "metadata": {},
   "source": [
    "We can let `igraph` also calculate how far apart all nodes are."
   ]
  },
  {
   "cell_type": "markdown",
   "metadata": {},
   "source": [
    "<div class=\"alert alert-warning\">\n",
    "The following may take some time to run\n",
    "</div>"
   ]
  },
  {
   "cell_type": "code",
   "execution_count": 13,
   "metadata": {},
   "outputs": [
    {
     "name": "stdout",
     "output_type": "stream",
     "text": [
      "N = 24314899, mean +- sd: 3.7926 +- 1.0931\n",
      "Each * represents 148751 items\n",
      "[ 1,  2):  (90036)\n",
      "[ 2,  3): *********** (1782624)\n",
      "[ 3,  4): ********************************************************* (8593271)\n",
      "[ 4,  5): ********************************************************** (8627590)\n",
      "[ 5,  6): ************************ (3702347)\n",
      "[ 6,  7): ******* (1072567)\n",
      "[ 7,  8): ** (307843)\n",
      "[ 8,  9):  (94635)\n",
      "[ 9, 10):  (31038)\n",
      "[10, 11):  (10430)\n",
      "[11, 12):  (1962)\n",
      "[12, 13):  (420)\n",
      "[13, 14):  (105)\n",
      "[14, 15):  (21)\n",
      "[15, 16):  (10)\n"
     ]
    }
   ],
   "source": [
    "path_lengths = G_collaboration.path_length_hist()\n",
    "print(path_lengths)"
   ]
  },
  {
   "cell_type": "markdown",
   "metadata": {},
   "source": [
    "How far apart are most authors? Do you think most authors are close by? Or do you think they are far apart?"
   ]
  },
  {
   "cell_type": "markdown",
   "metadata": {},
   "source": [
    "Let us briefly take a closer look at the path between node 0 and node 1 again. Now, instead of the nodes on the path, we want to take a closer look at the edges on the path."
   ]
  },
  {
   "cell_type": "code",
   "execution_count": null,
   "metadata": {},
   "outputs": [],
   "source": [
    "epath = G_collaboration.get_shortest_paths(0, 1, output='epath')\n",
    "epath"
   ]
  },
  {
   "cell_type": "markdown",
   "metadata": {},
   "source": [
    "There are three edges on this path, but the numbers themselves are not very informative. They refer to the edges, and similar to the `VertexSequence` we encountered earlier, there is also an `EdgeSequence`, abbreviated as `es`. Let us take a closer look to the number of joint papers that the authors had co-authored."
   ]
  },
  {
   "cell_type": "code",
   "execution_count": null,
   "metadata": {},
   "outputs": [],
   "source": [
    "G_collaboration.es[epath[0]]['n_joint_papers']"
   ]
  },
  {
   "cell_type": "markdown",
   "metadata": {},
   "source": [
    "Perhaps there are other paths that connect the two authors with more joint papers? Perhaps we could use the number of joint papers as weights?"
   ]
  },
  {
   "cell_type": "code",
   "execution_count": null,
   "metadata": {},
   "outputs": [],
   "source": [
    "epath = G_collaboration.get_shortest_paths(0, 1, weights='n_joint_papers', output='epath')\n",
    "epath"
   ]
  },
  {
   "cell_type": "markdown",
   "metadata": {},
   "source": [
    "We do get a path that is longer. Let us take a look at the number of joint papers."
   ]
  },
  {
   "cell_type": "code",
   "execution_count": null,
   "metadata": {},
   "outputs": [],
   "source": [
    "G_collaboration.es[epath[0]]['n_joint_papers']"
   ]
  },
  {
   "cell_type": "markdown",
   "metadata": {},
   "source": [
    "The number of joint papers is lower! That is because 'shortest path' means: the path with the lowest sum of the weights. This is clearly not what we want. You should always be aware of this whenever using the concept of the 'shortest path'."
   ]
  },
  {
   "cell_type": "markdown",
   "metadata": {},
   "source": [
    "<div class=\"alert alert-danger\">\n",
    "<b>Attention!</b> Weighted shortest paths have the *lowest* total weight.\n",
    "</div>"
   ]
  },
  {
   "cell_type": "markdown",
   "metadata": {},
   "source": [
    "## Clustering"
   ]
  },
  {
   "cell_type": "markdown",
   "metadata": {},
   "source": [
    "We already saw that most authors tend to be connected through no more than 3 or 4 people. As we encountered in the lecture, this is one of the signs of a small-world network. The other one is clustering: whether co-authors of an author also tend to be co-authors among themselves."
   ]
  },
  {
   "cell_type": "markdown",
   "metadata": {},
   "source": [
    "Let us take a look at the co-authors of of author number 0, which are called the *neighbors* in network terminology."
   ]
  },
  {
   "cell_type": "code",
   "execution_count": null,
   "metadata": {},
   "outputs": [],
   "source": [
    "G_collaboration.neighborhood(0)"
   ]
  },
  {
   "cell_type": "markdown",
   "metadata": {},
   "source": [
    "Now, what we actually want to know is whether many of those neighors are connected. That is, we want to take the subgraph of all authors that have co-authored with author number 0."
   ]
  },
  {
   "cell_type": "code",
   "execution_count": null,
   "metadata": {},
   "outputs": [],
   "source": [
    "H = G_collaboration.induced_subgraph(G_collaboration.neighborhood(0))\n",
    "H.summary()"
   ]
  },
  {
   "cell_type": "markdown",
   "metadata": {},
   "source": [
    "This subgraph only has 13 nodes (including node 0, so it has 12 neighbours) and 35 edges. This is sufficiently small to be easily plotted for visual inspection."
   ]
  },
  {
   "cell_type": "code",
   "execution_count": null,
   "metadata": {
    "scrolled": false
   },
   "outputs": [],
   "source": [
    "H.vs['color'] = 'red'\n",
    "H.vs[0]['color'] = 'grey'\n",
    "ig.plot(H)"
   ]
  },
  {
   "cell_type": "markdown",
   "metadata": {},
   "source": [
    "Do many of the co-authors collaborate among themselves as well? Why do you think this is the case?"
   ]
  },
  {
   "cell_type": "markdown",
   "metadata": {},
   "source": [
    "We can also ask igraph to calculate the clustering coefficient (which is called *transitivity* in igraph, which is the same concept using different terms) of node 0."
   ]
  },
  {
   "cell_type": "code",
   "execution_count": null,
   "metadata": {},
   "outputs": [],
   "source": [
    "G_collaboration.transitivity_local_undirected(0)"
   ]
  },
  {
   "cell_type": "markdown",
   "metadata": {},
   "source": [
    "This shows that 35% of the co-authors of node 0 have also written papers with each other."
   ]
  },
  {
   "cell_type": "markdown",
   "metadata": {},
   "source": [
    "Let us now calculate this for all nodes."
   ]
  },
  {
   "cell_type": "code",
   "execution_count": null,
   "metadata": {},
   "outputs": [],
   "source": [
    "G_collaboration.transitivity_avglocal_undirected()"
   ]
  },
  {
   "cell_type": "markdown",
   "metadata": {},
   "source": [
    "On average about 38% of the co-authors of an author have also writter papers with each other.\n",
    "\n",
    "We can conclude that the graph shows signs of a small-world network."
   ]
  },
  {
   "cell_type": "markdown",
   "metadata": {},
   "source": [
    "## Centrality"
   ]
  },
  {
   "cell_type": "markdown",
   "metadata": {},
   "source": [
    "Often, people want to identify wich nodes seem to be most important in some way in the network. This is often thought of as a type of *centrality* of a node."
   ]
  },
  {
   "cell_type": "markdown",
   "metadata": {},
   "source": [
    "### Degree"
   ]
  },
  {
   "cell_type": "markdown",
   "metadata": {},
   "source": [
    "The simplest type of centrality is the *degree* of a node, which is simply the number of its neighbours. Previously, we saw that node 0 had 12 neighbours, we therefore say its degree is 12."
   ]
  },
  {
   "cell_type": "code",
   "execution_count": null,
   "metadata": {},
   "outputs": [],
   "source": [
    "G_collaboration.degree(0)"
   ]
  },
  {
   "cell_type": "markdown",
   "metadata": {},
   "source": [
    "We can also simply calculate that for everybody and store it in a new vertex attribute called `degree`."
   ]
  },
  {
   "cell_type": "code",
   "execution_count": null,
   "metadata": {
    "collapsed": true
   },
   "outputs": [],
   "source": [
    "G_collaboration.vs['degree'] = G_collaboration.degree()"
   ]
  },
  {
   "cell_type": "markdown",
   "metadata": {},
   "source": [
    "We can plot this to look at the degree distribution. For that, we need to load the `matplotlib` package. We import the plotting functionality and name the package `plt`. We also include a statement telling Python to simply plot immediately in the Notebook."
   ]
  },
  {
   "cell_type": "code",
   "execution_count": null,
   "metadata": {
    "collapsed": true
   },
   "outputs": [],
   "source": [
    "import matplotlib.pyplot as plt\n",
    "%matplotlib inline"
   ]
  },
  {
   "cell_type": "markdown",
   "metadata": {},
   "source": [
    "Now let us plot a histogram of the degree."
   ]
  },
  {
   "cell_type": "code",
   "execution_count": null,
   "metadata": {},
   "outputs": [],
   "source": [
    "plt.hist(G_collaboration.vs['degree'], 50);"
   ]
  },
  {
   "cell_type": "markdown",
   "metadata": {},
   "source": [
    "This clearly shows that the degree distribution is quite skewed. Most authors have only few collaborators, while a few authors have many collaborators. If the degree distribution is so skewed, it is sometimes referred to as a \"scale-free\" network."
   ]
  },
  {
   "cell_type": "markdown",
   "metadata": {},
   "source": [
    "The code below sorts the nodes in descending order of the degree, and prints the full name and the degree of those with the highest degree. Explaining the code in full detail goes beyond this course, so simply take it for granted."
   ]
  },
  {
   "cell_type": "code",
   "execution_count": null,
   "metadata": {},
   "outputs": [],
   "source": [
    "highest_degree = sorted(G_collaboration.vs, key=lambda v: v['degree'], reverse=True)\n",
    "[(v['full_name'], v['degree']) for v in highest_degree[:10]]"
   ]
  },
  {
   "cell_type": "markdown",
   "metadata": {},
   "source": [
    "So, apparently, P. Carmeliet has collaborated with 235 other authors from Belgium! This of course only considers the number of co-authors, it does not take into account the number of papers written with somebody else.\n",
    "When specifying such *edge weights* like the number of joint papers, the weighted degree is referred to as the *strength* of a node (which is sometimes a bit confusing term). \n",
    "\n",
    "Let us look at the strength of node 0."
   ]
  },
  {
   "cell_type": "code",
   "execution_count": null,
   "metadata": {},
   "outputs": [],
   "source": [
    "G_collaboration.strength(0, weights='n_joint_papers')"
   ]
  },
  {
   "cell_type": "markdown",
   "metadata": {},
   "source": [
    "Apparently, author 0 collaborated with 12 different authors, and has a total strength of 30. But what does this 30 mean? We need to carefully think about this. Suppose that author 0 has co-authored a single publication with three other co-authors, each of the three co-authors would have an edge weight of `n_joint_papers = 1`. So, the strenght would then be 3. Hence, the strength denotes the total number of collaborations that an author had, which depends both on the number of publications and the number of collaborators per paper.\n",
    "\n",
    "Sometimes, it is undesirable that the total weight of the links created on the basis of a single publication is higher simply because of the total number of co-authorships. We can then fractionally count the weight of each collaboration between $n_a$ authors as\n",
    "\n",
    "$$\\frac{1}{n_a - 1}.$$\n",
    "\n",
    "This is also available as the vertex attribute `n_joint_papers_frac`."
   ]
  },
  {
   "cell_type": "code",
   "execution_count": null,
   "metadata": {},
   "outputs": [],
   "source": [
    "G_collaboration.strength(0, weights='n_joint_papers_frac')"
   ]
  },
  {
   "cell_type": "markdown",
   "metadata": {},
   "source": [
    "Normally, the strength calculated in this way would indicate simply the number of collaborative papers. Because not all co-authors are included in this network (only authors from Belgium are included), it does not neatly sum up in our case."
   ]
  },
  {
   "cell_type": "code",
   "execution_count": null,
   "metadata": {},
   "outputs": [],
   "source": [
    "sm.OLS(np.log(np.array(G_collaboration.vs['n_pubs']) + 1), np.log(np.array(G_collaboration.vs['degree']) + 1)).fit().summary()"
   ]
  },
  {
   "cell_type": "markdown",
   "metadata": {},
   "source": [
    "### Betweenness centrality"
   ]
  },
  {
   "cell_type": "markdown",
   "metadata": {},
   "source": [
    "Betweenness centrality is much more elaborate, and gives an indication of the number of times a node is on the shortest path from one node to another node.\n",
    "\n",
    "As you can imagine, this can take quite some time to calculate for all nodes. Let us here calculate it for node 0 again."
   ]
  },
  {
   "cell_type": "markdown",
   "metadata": {},
   "source": [
    "<div class=\"alert alert-warning\">\n",
    "The following may take some time to run\n",
    "</div>"
   ]
  },
  {
   "cell_type": "code",
   "execution_count": null,
   "metadata": {},
   "outputs": [],
   "source": [
    "G_collaboration.betweenness(vertices=0)"
   ]
  },
  {
   "cell_type": "markdown",
   "metadata": {},
   "source": [
    "As we did previously when dealing with shortest paths, we can also use a weight for determining the shortest paths."
   ]
  },
  {
   "cell_type": "markdown",
   "metadata": {},
   "source": [
    "<div class=\"alert alert-warning\">\n",
    "The following may take some time to run\n",
    "</div>"
   ]
  },
  {
   "cell_type": "code",
   "execution_count": null,
   "metadata": {},
   "outputs": [],
   "source": [
    "G_collaboration.betweenness(vertices=0, weights='n_joint_papers')"
   ]
  },
  {
   "cell_type": "markdown",
   "metadata": {},
   "source": [
    "As we already found out previously, doing so actually does not correspond with our intuition that shorter paths are better connected. The betweenness centrality defined in this way is therefore not very informative."
   ]
  },
  {
   "cell_type": "markdown",
   "metadata": {},
   "source": [
    "<div class=\"alert alert-danger\">\n",
    "<b>Attention!</b> Weighted shortest paths have the *lowest* total weight.\n",
    "</div>"
   ]
  },
  {
   "cell_type": "markdown",
   "metadata": {},
   "source": [
    "<div class=\"alert alert-warning\">\n",
    "Because betweenness centrality takes such a long time to run, we will not look at the most central authors according to betweenness centrality.\n",
    "</div>"
   ]
  },
  {
   "cell_type": "markdown",
   "metadata": {},
   "source": [
    "### Pagerank"
   ]
  },
  {
   "cell_type": "markdown",
   "metadata": {},
   "source": [
    "One way of identifying central nodes relies on the idea of a random walk in a network. When performing such a random walk, we simply go from one author to the next, following the co-authorship links. The author that is most frequently visited during such a random walk is then seen as most central. This is actually the idea that underlies Google's famous search engine."
   ]
  },
  {
   "cell_type": "code",
   "execution_count": null,
   "metadata": {},
   "outputs": [],
   "source": [
    "G_collaboration.pagerank(0)"
   ]
  },
  {
   "cell_type": "code",
   "execution_count": null,
   "metadata": {
    "scrolled": true
   },
   "outputs": [],
   "source": [
    "G_collaboration.vs['pagerank'] = G_collaboration.pagerank()\n",
    "highest_pagerank = sorted(G_collaboration.vs, key=lambda v: v['pagerank'], reverse=True)\n",
    "[(v['full_name'], v['pagerank']) for v in highest_pagerank[:10]]"
   ]
  },
  {
   "cell_type": "markdown",
   "metadata": {},
   "source": [
    "We again see that P. Carmeliet is the most central author, according to Pagerank. Most other authors also have  a highly similar rank compared to the degree. This is no surprise, since Pagerank resembles the degree, especially on undirected graphs."
   ]
  },
  {
   "cell_type": "markdown",
   "metadata": {},
   "source": [
    "We can again take into account the weights. In pagerank this means that a co-author that is a more frequent co-author will be more likely to be visited during a random walk. This is actually much more in line with our intuition than the shortest path. Let us see what we get if we do that."
   ]
  },
  {
   "cell_type": "code",
   "execution_count": null,
   "metadata": {
    "scrolled": true
   },
   "outputs": [],
   "source": [
    "G_collaboration.vs['pagerank_weighted'] = G_collaboration.pagerank(weights='n_joint_papers')\n",
    "highest_pagerank = sorted(G_collaboration.vs, key=lambda v: v['pagerank_weighted'], reverse=True)\n",
    "[(v['full_name'], v['pagerank_weighted']) for v in highest_pagerank[:10]]"
   ]
  },
  {
   "cell_type": "markdown",
   "metadata": {},
   "source": [
    "We now see some changes in the order of which authors are considered to be most central. What does this say about these authors?"
   ]
  },
  {
   "cell_type": "markdown",
   "metadata": {},
   "source": [
    "Take a closer look to the discipline of the authors with the highest Pagerank."
   ]
  },
  {
   "cell_type": "code",
   "execution_count": null,
   "metadata": {},
   "outputs": [],
   "source": [
    "[(v['full_name'], v['pagerank_weighted'], v['discipline']) for v in highest_pagerank[:10]]"
   ]
  },
  {
   "cell_type": "markdown",
   "metadata": {},
   "source": [
    "What do you think of this result? Can you explain why these authors come from this discipline?"
   ]
  },
  {
   "cell_type": "markdown",
   "metadata": {},
   "source": [
    "## Homophily"
   ]
  },
  {
   "cell_type": "markdown",
   "metadata": {},
   "source": [
    "One of the analyses that people are frequently interested in is whether people that share some attribute are more likely to be connected. In our case, it offers an opportunity to study the gender divide in science. In our collaboration network, the question is whether men are more likely to work with men and women are more likely to work with women.\n",
    "\n",
    "In social network analysis, this question can be answered by looking at the *assortativity*. This is a measure that indicates whether people of the same type are more likely to connect (positive assortativity) or less likely to connect (negative assortativity).\n",
    "\n",
    "Let us see what we obtain for our collaboration network here."
   ]
  },
  {
   "cell_type": "code",
   "execution_count": null,
   "metadata": {},
   "outputs": [],
   "source": [
    "G_collaboration.assortativity_nominal(ig.VertexClustering.FromAttribute(G_collaboration, 'gender').membership)"
   ]
  },
  {
   "cell_type": "markdown",
   "metadata": {},
   "source": [
    "Based on this measure, it seems that men and women collaborate quit evenly.\n",
    "\n",
    "Let us see whether people from the same discipline are more likely to collaborate."
   ]
  },
  {
   "cell_type": "code",
   "execution_count": null,
   "metadata": {},
   "outputs": [],
   "source": [
    "G_collaboration.assortativity_nominal(ig.VertexClustering.FromAttribute(G_collaboration, 'discipline').membership)"
   ]
  },
  {
   "cell_type": "markdown",
   "metadata": {},
   "source": [
    "Clearly, collaboration within the same discipline is much more likely, as expected. Let us see whether the stronger collaborations are even more likely to occur within the same discipline."
   ]
  },
  {
   "cell_type": "code",
   "execution_count": null,
   "metadata": {
    "collapsed": true
   },
   "outputs": [],
   "source": [
    "H = G_collaboration.subgraph_edges(G_collaboration.es.select(n_joint_papers_gt = 10))"
   ]
  },
  {
   "cell_type": "markdown",
   "metadata": {},
   "source": [
    "Here, we use the `select` function of the `EdgeSequence` to select edges. The arguments `n_joint_papers_gt = 10` refers to the condition that `n_joint_papers` is **g**reater **t**han `10`. We then use the function `subgraph_edges` to create a new graph with only those selected edges.\n",
    "\n",
    "Now let us look as the disciplinary assortativity of the stronger collaboration network."
   ]
  },
  {
   "cell_type": "code",
   "execution_count": null,
   "metadata": {},
   "outputs": [],
   "source": [
    "H.assortativity_nominal(ig.VertexClustering.FromAttribute(H, 'discipline').membership)"
   ]
  },
  {
   "cell_type": "markdown",
   "metadata": {},
   "source": [
    "Does gender homophily perhaps only show up for stronger collaborations?"
   ]
  },
  {
   "cell_type": "code",
   "execution_count": null,
   "metadata": {},
   "outputs": [],
   "source": [
    "H.assortativity_nominal(ig.VertexClustering.FromAttribute(H, 'gender').membership)"
   ]
  },
  {
   "cell_type": "markdown",
   "metadata": {},
   "source": [
    "Perhaps the absense of any gender divide in collaboration is a consequence of disciplinary differences.\n",
    "\n",
    "First, let us create different subgraphs for each discipline."
   ]
  },
  {
   "cell_type": "code",
   "execution_count": null,
   "metadata": {
    "collapsed": true
   },
   "outputs": [],
   "source": [
    "disciplines = ig.VertexClustering.FromAttribute(G_collaboration, 'discipline')"
   ]
  },
  {
   "cell_type": "markdown",
   "metadata": {},
   "source": [
    "Now, we can calculate the gender assortativity for each discipline separately."
   ]
  },
  {
   "cell_type": "code",
   "execution_count": null,
   "metadata": {
    "scrolled": true
   },
   "outputs": [],
   "source": [
    "gender_assortativity_df = pd.DataFrame([\n",
    "    {'discipline': H.vs['discipline'][0], \n",
    "     'n_nodes': H.vcount(),\n",
    "     'n_edges': H.ecount(),\n",
    "     'gender_assortativity': H.assortativity_nominal(ig.VertexClustering.FromAttribute(H, 'gender').membership)\n",
    "    }\n",
    " for H in disciplines.subgraphs()])\n",
    "gender_assortativity_df"
   ]
  },
  {
   "cell_type": "markdown",
   "metadata": {},
   "source": [
    "What would you conclude on the basis of these statistics?"
   ]
  },
  {
   "cell_type": "markdown",
   "metadata": {},
   "source": [
    "Besides assortativity based on gender or discipline, we can also look at assortativity based on degree. Do authors that collaborate a lot tend to collaborate with other authors that collaborate a lot? Or is it the other way around, and do authors that collaborate little tend to collaborate with authors that collaborate a lot? What would you expect?\n",
    "\n",
    "This can be answered by the degree assortativity."
   ]
  },
  {
   "cell_type": "code",
   "execution_count": null,
   "metadata": {},
   "outputs": [],
   "source": [
    "G_collaboration.assortativity_degree()"
   ]
  },
  {
   "cell_type": "markdown",
   "metadata": {},
   "source": [
    "### Citation network"
   ]
  },
  {
   "cell_type": "markdown",
   "metadata": {},
   "source": [
    "Let us now load also the citation data."
   ]
  },
  {
   "cell_type": "code",
   "execution_count": 15,
   "metadata": {},
   "outputs": [],
   "source": [
    "citation_df = pd.read_csv('citation.txt', sep='\\t')"
   ]
  },
  {
   "cell_type": "code",
   "execution_count": null,
   "metadata": {
    "collapsed": true
   },
   "outputs": [],
   "source": [
    "G_citation = ig.Graph.DictList(\n",
    "      vertices=authors_df.to_dict('records'),\n",
    "      edges=citation_df.to_dict('records'),\n",
    "      vertex_name_attr='author_id',\n",
    "      edge_foreign_keys=('author_id_from', 'author_id_to'),\n",
    "      directed=True\n",
    "      )"
   ]
  },
  {
   "cell_type": "code",
   "execution_count": null,
   "metadata": {},
   "outputs": [],
   "source": [
    "G_citation.reciprocity()"
   ]
  },
  {
   "cell_type": "markdown",
   "metadata": {},
   "source": [
    "Let us see if (wo)men are more likely to cite other (wo)men."
   ]
  },
  {
   "cell_type": "code",
   "execution_count": null,
   "metadata": {},
   "outputs": [],
   "source": [
    "G_citation.assortativity(ig.VertexClustering.FromAttribute(G_citation, 'gender').membership)"
   ]
  },
  {
   "cell_type": "markdown",
   "metadata": {},
   "source": [
    "This seems to be a very weak signal of any homophily.\n",
    "\n",
    "Stronger citation links perhaps show a higher degree of gender homophily."
   ]
  },
  {
   "cell_type": "code",
   "execution_count": null,
   "metadata": {},
   "outputs": [],
   "source": [
    "H = G_citation.subgraph_edges(G_citation.es.select(n_cits_gt = 15))\n",
    "H.assortativity(ig.VertexClustering.FromAttribute(H, 'gender').membership)"
   ]
  },
  {
   "cell_type": "markdown",
   "metadata": {},
   "source": [
    "Indeed, there is some indication that stronger citations show more signs of gender homophily."
   ]
  },
  {
   "cell_type": "markdown",
   "metadata": {},
   "source": [
    "## Weak links"
   ]
  },
  {
   "cell_type": "markdown",
   "metadata": {},
   "source": [
    "The weak link theory we discussed in class had two elements:\n",
    "\n",
    "1. Weak links tend to connect people from different groups.\n",
    "2. New information enter groups through weak links.\n",
    "\n",
    "Let us start by analysing whether authors collaborate more frequently with authors from the same group. An easy start is simply by looking at whether the average collaboration is stronger within disciplines than between disciplines."
   ]
  },
  {
   "cell_type": "code",
   "execution_count": null,
   "metadata": {
    "collapsed": true
   },
   "outputs": [],
   "source": [
    "disciplines = ig.VertexClustering.FromAttribute(G_collaboration, 'discipline')"
   ]
  },
  {
   "cell_type": "markdown",
   "metadata": {},
   "source": [
    "We now want to calculate the mean number of joint papers across disciplinary boundaries, and within disciplinary boundaries. To calculate the mean, the `numpy` package comes in handy. Let us import that first, and call it `np`."
   ]
  },
  {
   "cell_type": "code",
   "execution_count": null,
   "metadata": {
    "collapsed": true
   },
   "outputs": [],
   "source": [
    "import numpy as np"
   ]
  },
  {
   "cell_type": "markdown",
   "metadata": {},
   "source": [
    "Now we can calculate the mean `n_joint_papers` that are crossing the disciplinary boundaries."
   ]
  },
  {
   "cell_type": "code",
   "execution_count": null,
   "metadata": {},
   "outputs": [],
   "source": [
    "edge_crossing = disciplines.crossing()\n",
    "np.mean([e['n_joint_papers'] for e in G_collaboration.es if edge_crossing[e.index]])"
   ]
  },
  {
   "cell_type": "markdown",
   "metadata": {},
   "source": [
    "Let us compare that to the mean that does not cross disciplinary boundaries."
   ]
  },
  {
   "cell_type": "code",
   "execution_count": null,
   "metadata": {},
   "outputs": [],
   "source": [
    "np.mean([e['n_joint_papers'] for e in G_collaboration.es if not edge_crossing[e.index]])"
   ]
  },
  {
   "cell_type": "markdown",
   "metadata": {},
   "source": [
    "Clearly, collaborations that cross disciplinary boundaries tend to be weaker: the average numer of joint papers within disciplinary boundaries is more than twice as high than across disciplinary boundaries.\n",
    "\n",
    "Will this also at a much finer scale?\n",
    "\n",
    "Let us look at whether a link that connects authors that share many co-authors tends to be stronger? In other words, if co-authors share many other co-authors, they tend to collaborate more frequently."
   ]
  },
  {
   "cell_type": "code",
   "execution_count": null,
   "metadata": {
    "collapsed": true
   },
   "outputs": [],
   "source": [
    "G_collaboration.es['similarity_jaccard'] = G_collaboration.similarity_jaccard(pairs=[e.tuple for e in G_collaboration.es])"
   ]
  },
  {
   "cell_type": "markdown",
   "metadata": {},
   "source": [
    "Using `numpy` we can easily calculate the correlation coefficient between the Jaccard similarity and the number of joint papers."
   ]
  },
  {
   "cell_type": "code",
   "execution_count": null,
   "metadata": {},
   "outputs": [],
   "source": [
    "np.corrcoef(np.log(G_collaboration.es['similarity_jaccard']), np.log(G_collaboration.es['n_joint_papers']))"
   ]
  },
  {
   "cell_type": "markdown",
   "metadata": {},
   "source": [
    "Indeed, also at such a detailed scale, it seems that people that share many collaborators tend to collaborate more frequently."
   ]
  },
  {
   "cell_type": "markdown",
   "metadata": {},
   "source": [
    "Now let us plot the results."
   ]
  },
  {
   "cell_type": "code",
   "execution_count": null,
   "metadata": {},
   "outputs": [],
   "source": [
    "plt.loglog(G_collaboration.es['similarity_jaccard'], G_collaboration.es['n_joint_papers'], '.', alpha=0.05);"
   ]
  },
  {
   "cell_type": "markdown",
   "metadata": {},
   "source": [
    "What do you make of this?"
   ]
  },
  {
   "cell_type": "markdown",
   "metadata": {},
   "source": [
    "As is often the case, the second part of the theory on weak links is much more difficult to steady. It requires us to collect data on information that is spreading across co-authors. We will therefore not go into this here."
   ]
  },
  {
   "cell_type": "markdown",
   "metadata": {},
   "source": [
    "## Structural holes"
   ]
  },
  {
   "cell_type": "markdown",
   "metadata": {},
   "source": [
    "As discussed during class, people that fill structural holes occupy a particular position in the network. They are able to broker information between people that would otherwise not be connected. We can quantify this based on the clustering coeffient.\n",
    "\n",
    "Typically, nodes with a higher degree will show a lower clustering degree. This is partly due to the fact that the higher number of neighbors simply will not tend to all collaborate with each other. If there are only 4 or 5 co-authors, it is not unlikely they will all collaborate among each other. However, if you get to 100 co-authors, it is rather unlikely that all of them collaborate."
   ]
  },
  {
   "cell_type": "code",
   "execution_count": null,
   "metadata": {},
   "outputs": [],
   "source": [
    "plt.plot(G_collaboration.degree(), G_collaboration.transitivity_local_undirected(mode='zero'), '.', alpha=0.5)\n",
    "plt.xscale('log')"
   ]
  },
  {
   "cell_type": "markdown",
   "metadata": {},
   "source": [
    "Now let us see if authors that tend to connect different people are more frequently cited on average.\n",
    "\n",
    "First let us calculate the total and average number of citations."
   ]
  },
  {
   "cell_type": "code",
   "execution_count": null,
   "metadata": {},
   "outputs": [],
   "source": [
    "G_citation.vs['total_cits'] = G_citation.strength(weights='n_cits')\n",
    "G_citation.vs['avg_cits'] = np.array(G_citation.vs['total_cits'])/np.array(G_citation.vs['n_pubs'])"
   ]
  },
  {
   "cell_type": "markdown",
   "metadata": {},
   "source": [
    "Let us calculate the correlation between the average number of citations and the clustering coefficient."
   ]
  },
  {
   "cell_type": "code",
   "execution_count": null,
   "metadata": {},
   "outputs": [],
   "source": [
    "np.corrcoef(G_collaboration.transitivity_local_undirected(mode='zero'), G_citation.vs['avg_cits'])"
   ]
  },
  {
   "cell_type": "markdown",
   "metadata": {},
   "source": [
    "Let us also make scatter plot of the results."
   ]
  },
  {
   "cell_type": "code",
   "execution_count": null,
   "metadata": {},
   "outputs": [],
   "source": [
    "plt.plot(G_collaboration.transitivity_local_undirected(mode='zero'), G_citation.vs['avg_cits'], '.', alpha=0.1)\n",
    "plt.yscale('log')"
   ]
  },
  {
   "cell_type": "markdown",
   "metadata": {},
   "source": [
    "What do you make of this relationship? Are authors that have a higher cluster coefficient more frequently cited? What caveats does this analysis have?"
   ]
  },
  {
   "cell_type": "markdown",
   "metadata": {},
   "source": [
    "# Citations and co-authorship"
   ]
  },
  {
   "cell_type": "markdown",
   "metadata": {},
   "source": [
    "Let us delve a bit further into the relationship between citations and co-authorship.\n",
    "\n",
    "First, let us see how the citation degree—measuring how may authors cite an author—compares to the collaboration degree. For the citation degree, there are two variants: the in-degree—how many authors cite an author—and the out-degree—how many authors are cited by an author."
   ]
  },
  {
   "cell_type": "code",
   "execution_count": null,
   "metadata": {},
   "outputs": [],
   "source": [
    "f = plt.figure(figsize=(18,6))\n",
    "ax = f.add_subplot(1, 2, 1)\n",
    "ax.plot(G_collaboration.degree(), G_citation.degree(mode='in'), '.')\n",
    "ax2 = f.add_subplot(1, 2, 2)\n",
    "ax2.plot(G_collaboration.degree(), G_citation.degree(mode='out'), '.')"
   ]
  },
  {
   "cell_type": "markdown",
   "metadata": {},
   "source": [
    "Especially the citation out-degree correlates quite well with the collaboration degree. The numnber of authors that are cited by an author is roughly proportional to the number of collaborators of an author. That raise the question: do people tend to cite their co-authors? Going one step further: do people tend to cite co-authors of their co-authors?\n",
    "\n",
    "Let us try to analyse that a bit further. Let us first ask `igraph` to calculate the shortest path distance between all pairs of nodes."
   ]
  },
  {
   "cell_type": "code",
   "execution_count": null,
   "metadata": {
    "collapsed": true
   },
   "outputs": [],
   "source": [
    "comms = G_collaboration.community_multilevel()"
   ]
  },
  {
   "cell_type": "code",
   "execution_count": null,
   "metadata": {},
   "outputs": [],
   "source": [
    "max_comm, max_size = max(enumerate(comms.sizes()), key=lambda x: x[1])"
   ]
  },
  {
   "cell_type": "code",
   "execution_count": null,
   "metadata": {},
   "outputs": [],
   "source": [
    "H_collaboration = G_collaboration.induced_subgraph(comms[max_comm])\n",
    "H_citation = G_citation.induced_subgraph(comms[max_comm])"
   ]
  },
  {
   "cell_type": "markdown",
   "metadata": {},
   "source": [
    "<div class=\"alert alert-warning\">\n",
    "The following may take some time to run\n",
    "</div>"
   ]
  },
  {
   "cell_type": "code",
   "execution_count": null,
   "metadata": {},
   "outputs": [],
   "source": [
    "dist = np.array(H_collaboration.shortest_paths())"
   ]
  },
  {
   "cell_type": "markdown",
   "metadata": {},
   "source": [
    "Now, let us look at the number of citations for all pairs of nodes."
   ]
  },
  {
   "cell_type": "code",
   "execution_count": null,
   "metadata": {
    "collapsed": true
   },
   "outputs": [],
   "source": [
    "n_cits = np.array(H_citation.get_adjacency('n_cits').data)"
   ]
  },
  {
   "cell_type": "markdown",
   "metadata": {},
   "source": [
    "We can create a dataframe for this information."
   ]
  },
  {
   "cell_type": "code",
   "execution_count": null,
   "metadata": {
    "collapsed": true
   },
   "outputs": [],
   "source": [
    "n_cits_per_dist_df = pd.DataFrame({'n_cits': np.reshape(n_cits, -1),\n",
    "                                   'dist': np.reshape(dist, -1)})"
   ]
  },
  {
   "cell_type": "code",
   "execution_count": null,
   "metadata": {},
   "outputs": [],
   "source": [
    "avg_cit_per_dist = n_cits_per_dist_df.groupby('dist').mean()\n",
    "dist_hist = n_cits_per_dist_df.groupby('dist').size()\n",
    "\n",
    "f = plt.figure(figsize=(9,6))\n",
    "ax = f.add_subplot(1, 1, 1)\n",
    "l1, = ax.plot(avg_cit_per_dist.index, avg_cit_per_dist, color='b', label='Avg. cits.')\n",
    "ax.set_yscale('log')\n",
    "ax.spines['left'].set_color('b')\n",
    "ax.set_ylabel('Avg. cits.')\n",
    "\n",
    "ax2 = ax.twinx()\n",
    "l2, = ax2.plot(dist_hist.index, dist_hist/sum(dist_hist), color='r', label='Dist. freq.')\n",
    "ax2.set_yscale('log')\n",
    "ax2.set_ylabel('Dist. freq')\n",
    "lines = [l1, l2]\n",
    "plt.legend(lines, [l.get_label() for l in lines], loc='best')"
   ]
  },
  {
   "cell_type": "code",
   "execution_count": null,
   "metadata": {
    "collapsed": true
   },
   "outputs": [],
   "source": []
  }
 ],
 "metadata": {
  "kernelspec": {
   "display_name": "Python 3",
   "language": "python",
   "name": "python3"
  },
  "language_info": {
   "codemirror_mode": {
    "name": "ipython",
    "version": 3
   },
   "file_extension": ".py",
   "mimetype": "text/x-python",
   "name": "python",
   "nbconvert_exporter": "python",
   "pygments_lexer": "ipython3",
   "version": "3.6.3"
  }
 },
 "nbformat": 4,
 "nbformat_minor": 2
}
